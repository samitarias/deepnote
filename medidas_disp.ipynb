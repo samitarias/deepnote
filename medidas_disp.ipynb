{
 "cells": [
  {
   "cell_type": "code",
   "metadata": {
    "tags": [],
    "cell_id": "00000-a351a11c-3366-4c1f-b2c7-22f4b4659094",
    "deepnote_to_be_reexecuted": false,
    "source_hash": "18853637",
    "execution_start": 1631067615998,
    "execution_millis": 3724,
    "deepnote_cell_type": "code"
   },
   "source": "# Start writing code here...\nimport pandas as pd\nimport matplotlib.pyplot as plt\nimport seaborn as sns\n\ndf=pd.read_csv('cars.csv')",
   "execution_count": null,
   "outputs": []
  },
  {
   "cell_type": "code",
   "metadata": {
    "tags": [],
    "cell_id": "00001-68aa7d66-c5c9-423e-abe2-d05de678fe45",
    "deepnote_to_be_reexecuted": false,
    "source_hash": "b46bfdf5",
    "execution_start": 1631067695717,
    "execution_millis": 44,
    "deepnote_cell_type": "code"
   },
   "source": "#desviacion estandar\ndf['price_usd'].std()",
   "execution_count": null,
   "outputs": [
    {
     "output_type": "execute_result",
     "execution_count": 2,
     "data": {
      "text/plain": "6428.1520182029035"
     },
     "metadata": {}
    }
   ]
  },
  {
   "cell_type": "code",
   "metadata": {
    "tags": [],
    "cell_id": "00002-aa818d6b-4b80-4045-8775-90c52fd9bb7f",
    "deepnote_to_be_reexecuted": false,
    "source_hash": "a929b675",
    "execution_start": 1631067965247,
    "execution_millis": 6,
    "deepnote_cell_type": "code"
   },
   "source": "#Media\ndf['price_usd'].mean()",
   "execution_count": null,
   "outputs": [
    {
     "output_type": "execute_result",
     "execution_count": 4,
     "data": {
      "text/plain": "6639.971021255613"
     },
     "metadata": {}
    }
   ]
  },
  {
   "cell_type": "code",
   "metadata": {
    "tags": [],
    "cell_id": "00003-cb321afb-746a-4f64-86f0-bbe234f1791c",
    "deepnote_to_be_reexecuted": false,
    "source_hash": "3603466",
    "execution_start": 1631068100190,
    "execution_millis": 17,
    "deepnote_cell_type": "code"
   },
   "source": "#Mediana\ndf['price_usd'].median()",
   "execution_count": null,
   "outputs": [
    {
     "output_type": "execute_result",
     "execution_count": 6,
     "data": {
      "text/plain": "4800.0"
     },
     "metadata": {}
    }
   ]
  },
  {
   "cell_type": "code",
   "metadata": {
    "tags": [],
    "cell_id": "00004-76ba574d-8494-4db4-bc7b-ea28911ae03d",
    "deepnote_to_be_reexecuted": false,
    "source_hash": "8e83fca2",
    "execution_start": 1631068114160,
    "execution_millis": 242,
    "deepnote_cell_type": "code"
   },
   "source": "#Histograma\ndf['price_usd'].plot.hist(bins=20)",
   "execution_count": null,
   "outputs": [
    {
     "output_type": "execute_result",
     "execution_count": 7,
     "data": {
      "text/plain": "<AxesSubplot:ylabel='Frequency'>"
     },
     "metadata": {}
    },
    {
     "data": {
      "text/plain": "<Figure size 432x288 with 1 Axes>",
      "image/png": "[encoded data removed]"
     },
     "metadata": {
      "needs_background": "light",
      "image/png": {
       "width": 402,
       "height": 248
      }
     },
     "output_type": "display_data"
    }
   ]
  },
  {
   "cell_type": "code",
   "metadata": {
    "tags": [],
    "cell_id": "00005-10a811f7-6af1-4e2a-9a67-d0c10184cc2d",
    "deepnote_to_be_reexecuted": false,
    "source_hash": "51656b22",
    "execution_start": 1631068502755,
    "execution_millis": 9,
    "deepnote_cell_type": "code"
   },
   "source": "#Rango=Valor Maximo- Valor Minimo\n\nmaximo=df['price_usd'].max()\nprint('Valor maximo:',maximo)\nminimo=df['price_usd'].min()\nprint('Valor Minimo:',minimo)\nrango=df['price_usd'].max()-df['price_usd'].min()\nprint('Rango:',rango)\n",
   "execution_count": null,
   "outputs": [
    {
     "name": "stdout",
     "text": "Valor maximo: 50000.0\nValor Minimo: 1.0\nRango: 49999.0\n",
     "output_type": "stream"
    }
   ]
  },
  {
   "cell_type": "code",
   "metadata": {
    "tags": [],
    "cell_id": "00006-984a4996-d34e-49e7-9246-1189d373f6df",
    "deepnote_to_be_reexecuted": false,
    "source_hash": "89761d0a",
    "execution_start": 1631069296151,
    "execution_millis": 12,
    "deepnote_cell_type": "code"
   },
   "source": "#Cuartiles\nQ1=df['price_usd'].quantile(q=0)\nprint(Q1)\nQ2=df['price_usd'].quantile(q=0.25)\nprint(Q2)\nmedian=df['price_usd'].median()\nprint(median)\nQ3=df['price_usd'].quantile(q=0.75)\nprint(Q3)\nQ4=df['price_usd'].quantile(q=1)\nprint(Q4)",
   "execution_count": null,
   "outputs": [
    {
     "name": "stdout",
     "text": "1.0\n2100.0\n4800.0\n8990.0\n50000.0\n",
     "output_type": "stream"
    }
   ]
  },
  {
   "cell_type": "code",
   "metadata": {
    "tags": [],
    "cell_id": "00007-5ae2714f-477e-40a0-816e-a9512b141e85",
    "deepnote_to_be_reexecuted": false,
    "source_hash": "ddabf6e4",
    "execution_start": 1631070437548,
    "execution_millis": 6,
    "deepnote_cell_type": "code"
   },
   "source": "#Rango Intercuartil\niqr=Q3-Q1\nprint('Rango Intercuartil:',iqr)",
   "execution_count": null,
   "outputs": [
    {
     "name": "stdout",
     "text": "Rango Intercuartil: 8989.0\n",
     "output_type": "stream"
    }
   ]
  },
  {
   "cell_type": "markdown",
   "source": "<a style='text-decoration:none;line-height:16px;display:flex;color:#5B5B62;padding:10px;justify-content:end;' href='https://deepnote.com?utm_source=created-in-deepnote-cell&projectId=d8106d26-a260-4e9b-94b0-38544b31c58a' target=\"_blank\">\n<img alt='Created in deepnote.com' style='display:inline;max-height:16px;margin:0px;margin-right:7.5px;' src='data:image/svg+xml;base64,PD94bWwgdmVyc2lvbj0iMS4wIiBlbmNvZGluZz0iVVRGLTgiPz4KPHN2ZyB3aWR0aD0iODBweCIgaGVpZ2h0PSI4MHB4IiB2aWV3Qm94PSIwIDAgODAgODAiIHZlcnNpb249IjEuMSIgeG1sbnM9Imh0dHA6Ly93d3cudzMub3JnLzIwMDAvc3ZnIiB4bWxuczp4bGluaz0iaHR0cDovL3d3dy53My5vcmcvMTk5OS94bGluayI+CiAgICA8IS0tIEdlbmVyYXRvcjogU2tldGNoIDU0LjEgKDc2NDkwKSAtIGh0dHBzOi8vc2tldGNoYXBwLmNvbSAtLT4KICAgIDx0aXRsZT5Hcm91cCAzPC90aXRsZT4KICAgIDxkZXNjPkNyZWF0ZWQgd2l0aCBTa2V0Y2guPC9kZXNjPgogICAgPGcgaWQ9IkxhbmRpbmciIHN0cm9rZT0ibm9uZSIgc3Ryb2tlLXdpZHRoPSIxIiBmaWxsPSJub25lIiBmaWxsLXJ1bGU9ImV2ZW5vZGQiPgogICAgICAgIDxnIGlkPSJBcnRib2FyZCIgdHJhbnNmb3JtPSJ0cmFuc2xhdGUoLTEyMzUuMDAwMDAwLCAtNzkuMDAwMDAwKSI+CiAgICAgICAgICAgIDxnIGlkPSJHcm91cC0zIiB0cmFuc2Zvcm09InRyYW5zbGF0ZSgxMjM1LjAwMDAwMCwgNzkuMDAwMDAwKSI+CiAgICAgICAgICAgICAgICA8cG9seWdvbiBpZD0iUGF0aC0yMCIgZmlsbD0iIzAyNjVCNCIgcG9pbnRzPSIyLjM3NjIzNzYyIDgwIDM4LjA0NzY2NjcgODAgNTcuODIxNzgyMiA3My44MDU3NTkyIDU3LjgyMTc4MjIgMzIuNzU5MjczOSAzOS4xNDAyMjc4IDMxLjY4MzE2ODMiPjwvcG9seWdvbj4KICAgICAgICAgICAgICAgIDxwYXRoIGQ9Ik0zNS4wMDc3MTgsODAgQzQyLjkwNjIwMDcsNzYuNDU0OTM1OCA0Ny41NjQ5MTY3LDcxLjU0MjI2NzEgNDguOTgzODY2LDY1LjI2MTk5MzkgQzUxLjExMjI4OTksNTUuODQxNTg0MiA0MS42NzcxNzk1LDQ5LjIxMjIyODQgMjUuNjIzOTg0Niw0OS4yMTIyMjg0IEMyNS40ODQ5Mjg5LDQ5LjEyNjg0NDggMjkuODI2MTI5Niw0My4yODM4MjQ4IDM4LjY0NzU4NjksMzEuNjgzMTY4MyBMNzIuODcxMjg3MSwzMi41NTQ0MjUgTDY1LjI4MDk3Myw2Ny42NzYzNDIxIEw1MS4xMTIyODk5LDc3LjM3NjE0NCBMMzUuMDA3NzE4LDgwIFoiIGlkPSJQYXRoLTIyIiBmaWxsPSIjMDAyODY4Ij48L3BhdGg+CiAgICAgICAgICAgICAgICA8cGF0aCBkPSJNMCwzNy43MzA0NDA1IEwyNy4xMTQ1MzcsMC4yNTcxMTE0MzYgQzYyLjM3MTUxMjMsLTEuOTkwNzE3MDEgODAsMTAuNTAwMzkyNyA4MCwzNy43MzA0NDA1IEM4MCw2NC45NjA0ODgyIDY0Ljc3NjUwMzgsNzkuMDUwMzQxNCAzNC4zMjk1MTEzLDgwIEM0Ny4wNTUzNDg5LDc3LjU2NzA4MDggNTMuNDE4MjY3Nyw3MC4zMTM2MTAzIDUzLjQxODI2NzcsNTguMjM5NTg4NSBDNTMuNDE4MjY3Nyw0MC4xMjg1NTU3IDM2LjMwMzk1NDQsMzcuNzMwNDQwNSAyNS4yMjc0MTcsMzcuNzMwNDQwNSBDMTcuODQzMDU4NiwzNy43MzA0NDA1IDkuNDMzOTE5NjYsMzcuNzMwNDQwNSAwLDM3LjczMDQ0MDUgWiIgaWQ9IlBhdGgtMTkiIGZpbGw9IiMzNzkzRUYiPjwvcGF0aD4KICAgICAgICAgICAgPC9nPgogICAgICAgIDwvZz4KICAgIDwvZz4KPC9zdmc+' > </img>\nCreated in <span style='font-weight:600;margin-left:4px;'>Deepnote</span></a>",
   "metadata": {
    "tags": [],
    "created_in_deepnote_cell": true,
    "deepnote_cell_type": "markdown"
   }
  }
 ],
 "nbformat": 4,
 "nbformat_minor": 2,
 "metadata": {
  "orig_nbformat": 2,
  "deepnote": {
   "is_reactive": false
  },
  "deepnote_notebook_id": "6b3b33cf-f55e-4ad8-bea2-d26aa97175b5",
  "deepnote_execution_queue": []
 }
}